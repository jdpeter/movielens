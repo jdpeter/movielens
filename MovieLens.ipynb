{
 "cells": [
  {
   "cell_type": "code",
   "execution_count": 2,
   "metadata": {
    "tags": []
   },
   "outputs": [
    {
     "output_type": "stream",
     "name": "stderr",
     "text": "Matplotlib is building the font cache; this may take a moment.\n"
    }
   ],
   "source": [
    "import pandas as pd\n",
    "import numpy as np\n",
    "import matplotlib as plt\n",
    "import seaborn as sns\n",
    "%matplotlib inline"
   ]
  },
  {
   "cell_type": "code",
   "execution_count": 8,
   "metadata": {},
   "outputs": [],
   "source": [
    "mdata = pd.read_csv('C:\\\\Users\\\\Home\\\\Documents\\\\Python Scripts\\\\ml-100k\\\\u.data', sep='\\t', names= ['userid', 'movieid', 'rating', 'timestamp'], index_col=['userid'])\n"
   ]
  },
  {
   "cell_type": "code",
   "execution_count": 9,
   "metadata": {},
   "outputs": [
    {
     "output_type": "execute_result",
     "data": {
      "text/plain": "        movieid  rating  timestamp\nuserid                            \n1            55       5  875072688\n1           203       4  878542231\n1           183       5  875072262\n1           150       5  876892196\n1            68       4  875072688\n...         ...     ...        ...\n943         427       4  888639147\n943          12       5  888639093\n943         284       2  875502192\n943          62       3  888640003\n943         210       4  888639147\n\n[100000 rows x 3 columns]",
      "text/html": "<div>\n<style scoped>\n    .dataframe tbody tr th:only-of-type {\n        vertical-align: middle;\n    }\n\n    .dataframe tbody tr th {\n        vertical-align: top;\n    }\n\n    .dataframe thead th {\n        text-align: right;\n    }\n</style>\n<table border=\"1\" class=\"dataframe\">\n  <thead>\n    <tr style=\"text-align: right;\">\n      <th></th>\n      <th>movieid</th>\n      <th>rating</th>\n      <th>timestamp</th>\n    </tr>\n    <tr>\n      <th>userid</th>\n      <th></th>\n      <th></th>\n      <th></th>\n    </tr>\n  </thead>\n  <tbody>\n    <tr>\n      <th>1</th>\n      <td>55</td>\n      <td>5</td>\n      <td>875072688</td>\n    </tr>\n    <tr>\n      <th>1</th>\n      <td>203</td>\n      <td>4</td>\n      <td>878542231</td>\n    </tr>\n    <tr>\n      <th>1</th>\n      <td>183</td>\n      <td>5</td>\n      <td>875072262</td>\n    </tr>\n    <tr>\n      <th>1</th>\n      <td>150</td>\n      <td>5</td>\n      <td>876892196</td>\n    </tr>\n    <tr>\n      <th>1</th>\n      <td>68</td>\n      <td>4</td>\n      <td>875072688</td>\n    </tr>\n    <tr>\n      <th>...</th>\n      <td>...</td>\n      <td>...</td>\n      <td>...</td>\n    </tr>\n    <tr>\n      <th>943</th>\n      <td>427</td>\n      <td>4</td>\n      <td>888639147</td>\n    </tr>\n    <tr>\n      <th>943</th>\n      <td>12</td>\n      <td>5</td>\n      <td>888639093</td>\n    </tr>\n    <tr>\n      <th>943</th>\n      <td>284</td>\n      <td>2</td>\n      <td>875502192</td>\n    </tr>\n    <tr>\n      <th>943</th>\n      <td>62</td>\n      <td>3</td>\n      <td>888640003</td>\n    </tr>\n    <tr>\n      <th>943</th>\n      <td>210</td>\n      <td>4</td>\n      <td>888639147</td>\n    </tr>\n  </tbody>\n</table>\n<p>100000 rows × 3 columns</p>\n</div>"
     },
     "metadata": {},
     "execution_count": 9
    }
   ],
   "source": [
    "mdata.sort_values('userid', ascending=True)"
   ]
  },
  {
   "cell_type": "code",
   "execution_count": null,
   "metadata": {},
   "outputs": [],
   "source": [
    "movies = pd.read_csv('C:\\\\Users\\\\Home\\\\Documents\\\\Python Scripts\\\\ml-100k\\\\u.data', sep='\\t', names=['movie_id', 'movie_title', 'release_date', /                 'video_release_date', 'imdb_url', 'unknown', 'Action', 'Adventure', 'Animation',               Children's | Comedy | Crime | Documentary | Drama | Fantasy |\n",
    "              Film-Noir | Horror | Musical | Mystery | Romance | Sci-Fi |\n",
    "              Thriller | War | Western '])"
   ]
  }
 ],
 "metadata": {
  "kernelspec": {
   "display_name": "Python 3.8.5 64-bit",
   "language": "python",
   "name": "python_defaultSpec_1595869997056"
  },
  "language_info": {
   "codemirror_mode": {
    "name": "ipython",
    "version": 3
   },
   "file_extension": ".py",
   "mimetype": "text/x-python",
   "name": "python",
   "nbconvert_exporter": "python",
   "pygments_lexer": "ipython3",
   "version": "3.7.6"
  }
 },
 "nbformat": 4,
 "nbformat_minor": 4
}